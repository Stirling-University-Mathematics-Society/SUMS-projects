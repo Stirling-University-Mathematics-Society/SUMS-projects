{
  "cells": [
    {
      "cell_type": "markdown",
      "id": "5ce23bbd",
      "metadata": {
        "id": "5ce23bbd"
      },
      "source": [
        "# Epidemiology Basics — SIR Model (Beginner)\n",
        "\n",
        "\n",
        "\n",
        "**Goal**\n",
        "- See how infections can rise and fall using the simple **SIR** model.\n",
        "- Change a few numbers and watch the curves move.\n",
        "\n",
        "**SIR compartments**\n",
        "- **S**: Susceptible (can catch it)\n",
        "- **I**: Infected (currently infectious)\n",
        "- **R**: Recovered (or removed, immune)\n"
      ]
    },
    {
      "cell_type": "markdown",
      "id": "96550ff0",
      "metadata": {
        "id": "96550ff0"
      },
      "source": [
        "## 0) Imports"
      ]
    },
    {
      "cell_type": "markdown",
      "source": [],
      "metadata": {
        "id": "5-AsQRVpxrFV"
      },
      "id": "5-AsQRVpxrFV"
    },
    {
      "cell_type": "code",
      "execution_count": null,
      "id": "cdf78b62",
      "metadata": {
        "id": "cdf78b62"
      },
      "outputs": [],
      "source": [
        "import numpy as np\n",
        "import matplotlib.pyplot as plt\n",
        "\n",
        "print(\"NumPy:\", np.__version__)"
      ]
    },
    {
      "cell_type": "markdown",
      "id": "ff37cc6b",
      "metadata": {
        "id": "ff37cc6b"
      },
      "source": [
        "## 1) Parameters (you can edit these)\n",
        "\n",
        "- `N`: total population (constant)\n",
        "- `beta`: infection rate (how fast it spreads)\n",
        "- `gamma`: recovery rate (how fast people recover)\n",
        "- `I0`, `R0`: starting infected / recovered\n",
        "- `S0 = N - I0 - R0`: starting susceptible\n",
        "\n",
        "**Rule of thumb:** the **basic reproduction number** is \\(R_0 = \\beta/\\gamma\\).\n",
        "- If `R0 > 1` → growth is possible.\n",
        "- If `R0 < 1` → infections die out.\n"
      ]
    },
    {
      "cell_type": "code",
      "execution_count": null,
      "id": "3c02bb24",
      "metadata": {
        "id": "3c02bb24"
      },
      "outputs": [],
      "source": [
        "# Population & rates\n",
        "N = 1000     # total people\n",
        "beta = 0.30  # infection rate\n",
        "gamma = 0.10 # recovery rate\n",
        "\n",
        "# Initial conditions\n",
        "I0 = 1\n",
        "R0 = 0\n",
        "S0 = N - I0 - R0\n",
        "\n",
        "print(\"R0 = beta/gamma =\", beta/gamma)"
      ]
    },
    {
      "cell_type": "markdown",
      "id": "aef86135",
      "metadata": {
        "id": "aef86135"
      },
      "source": [
        "## 2) Time settings"
      ]
    },
    {
      "cell_type": "code",
      "execution_count": null,
      "id": "de6e543d",
      "metadata": {
        "id": "de6e543d"
      },
      "outputs": [],
      "source": [
        "days = 160\n",
        "dt = 1.0\n",
        "t = np.arange(0, days+1, dt)\n",
        "\n",
        "print(\"Simulating\", len(t), \"steps of 1 day each\")"
      ]
    },
    {
      "cell_type": "markdown",
      "id": "5af8d4d1",
      "metadata": {
        "id": "5af8d4d1"
      },
      "source": [
        "## 3) Run the simulation (simple Euler loop)"
      ]
    },
    {
      "cell_type": "code",
      "execution_count": null,
      "id": "f820f21a",
      "metadata": {
        "id": "f820f21a"
      },
      "outputs": [],
      "source": [
        "S = np.zeros_like(t, dtype=float)\n",
        "I = np.zeros_like(t, dtype=float)\n",
        "R = np.zeros_like(t, dtype=float)\n",
        "\n",
        "S[0], I[0], R[0] = S0, I0, R0\n",
        "\n",
        "for k in range(len(t)-1):\n",
        "    # SIR equations (discrete Euler step)\n",
        "    dS = -beta * S[k] * I[k] / N\n",
        "    dI = beta * S[k] * I[k] / N - gamma * I[k]\n",
        "    dR = gamma * I[k]\n",
        "\n",
        "    # Update\n",
        "    S[k+1] = S[k] + dS*dt\n",
        "    I[k+1] = I[k] + dI*dt\n",
        "    R[k+1] = R[k] + dR*dt\n",
        "\n",
        "    # Keep non-negative\n",
        "    if S[k+1] < 0: S[k+1] = 0.0\n",
        "    if I[k+1] < 0: I[k+1] = 0.0\n",
        "    if R[k+1] < 0: R[k+1] = 0.0\n",
        "\n",
        "# Quick stats\n",
        "peak_I = I.max()\n",
        "peak_day = t[I.argmax()]\n",
        "final_R = R[-1]\n",
        "\n",
        "print(f\"Peak infected: {peak_I:.1f} on day {peak_day:.0f}\")\n",
        "print(f\"Final recovered: {final_R:.1f} ({final_R/N:.1%})\")"
      ]
    },
    {
      "cell_type": "markdown",
      "id": "69b6dfc6",
      "metadata": {
        "id": "69b6dfc6"
      },
      "source": [
        "## 4) Plot the epidemic curves"
      ]
    },
    {
      "cell_type": "code",
      "execution_count": null,
      "id": "471acb8e",
      "metadata": {
        "id": "471acb8e"
      },
      "outputs": [],
      "source": [
        "plt.plot(t, S, label=\"Susceptible (S)\")\n",
        "plt.plot(t, I, label=\"Infected (I)\")\n",
        "plt.plot(t, R, label=\"Recovered (R)\")\n",
        "plt.xlabel(\"Days\")\n",
        "plt.ylabel(\"People\")\n",
        "plt.title(\"SIR — Simple Euler Simulation\")\n",
        "plt.legend()\n",
        "plt.show()"
      ]
    },
    {
      "cell_type": "markdown",
      "id": "54c3229d",
      "metadata": {
        "id": "54c3229d"
      },
      "source": [
        "## 5) Try these (quick tasks)\n",
        "\n",
        "1) **Slower spread**: set `beta = 0.15`. What happens to the peak?  \n",
        "2) **Faster recovery**: set `gamma = 0.2`. Does the outbreak shrink?  \n",
        "3) **Bigger seed**: set `I0 = 10`. Does the peak arrive earlier?  \n",
        "4) **Smaller town**: set `N = 500` but keep `beta/gamma` the same. Compare peak *fraction* of infected.\n"
      ]
    },
    {
      "cell_type": "markdown",
      "id": "6f8a1600",
      "metadata": {
        "id": "6f8a1600"
      },
      "source": [
        "## 6) (Optional) Simple control\n",
        "\n",
        "We can model distancing/masks by reducing `beta` by a factor (e.g., 0.6).\n",
        "Uncomment and experiment if you want.\n"
      ]
    },
    {
      "cell_type": "code",
      "execution_count": null,
      "id": "a64e5b32",
      "metadata": {
        "id": "a64e5b32"
      },
      "outputs": [],
      "source": [
        "# contact_factor = 0.6\n",
        "# beta_effective = beta * contact_factor\n",
        "# (Re-run the simulation cells with beta_effective replacing beta)"
      ]
    }
  ],
  "metadata": {
    "colab": {
      "provenance": []
    }
  },
  "nbformat": 4,
  "nbformat_minor": 5
}